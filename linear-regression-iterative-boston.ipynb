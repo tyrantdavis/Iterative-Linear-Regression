{
 "cells": [
  {
   "cell_type": "markdown",
   "id": "9257e77d-01ec-4a8a-abcf-023f0f6ea9cd",
   "metadata": {},
   "source": [
    "# Import Software Packages"
   ]
  },
  {
   "cell_type": "code",
   "execution_count": 1,
   "id": "5a21cfe6-55bd-4f9b-854a-baf6e6f6e56a",
   "metadata": {},
   "outputs": [
    {
     "name": "stdout",
     "output_type": "stream",
     "text": [
      "Libraries used in this project:\n",
      "- Python 3.8.18 | packaged by conda-forge | (default, Dec 23 2023, 17:23:49) \n",
      "[Clang 15.0.7 ]\n",
      "- NumPy 1.24.3\n",
      "- pandas 2.0.3\n",
      "- Matplotlib 3.7.2\n",
      "- Seaborn 0.9.0\n",
      "- scikit-learn 1.3.2\n",
      "\n"
     ]
    }
   ],
   "source": [
    "import os  # Interact with the operating system\n",
    "import sys  # Read system parameters.\n",
    "from time import time  # Calculate training time.\n",
    "\n",
    "import matplotlib as mpl  # Create 2D charts.\n",
    "import matplotlib.cm as cm  # Create Color maps\n",
    "import matplotlib.pyplot as plt  # Create figures\n",
    "import numpy as np  # Work with multi-dimensional arrays and matrices.\n",
    "import pandas as pd  # Manipulate and analyze data.\n",
    "import seaborn as sb  # Perform data visualization.\n",
    "import sklearn  # Perform data mining and analysis.\n",
    "from sklearn import datasets\n",
    "\n",
    "# Summarize software libraries used.\n",
    "print(\"Libraries used in this project:\")\n",
    "print(\"- Python {}\".format(sys.version))\n",
    "print(\"- NumPy {}\".format(np.__version__))\n",
    "print(\"- pandas {}\".format(pd.__version__))\n",
    "print(\"- Matplotlib {}\".format(mpl.__version__))\n",
    "print(\"- Seaborn {}\".format(sb.__version__))\n",
    "print(\"- scikit-learn {}\\n\".format(sklearn.__version__))"
   ]
  },
  {
   "cell_type": "markdown",
   "id": "40cef356-e674-42dc-9cf4-9aa4dc27145d",
   "metadata": {},
   "source": [
    "# Load Dataset"
   ]
  },
  {
   "cell_type": "code",
   "execution_count": 2,
   "id": "7da8d907-d091-4a0c-82b1-075acf0a0314",
   "metadata": {},
   "outputs": [
    {
     "name": "stdout",
     "output_type": "stream",
     "text": [
      "Data files in this project: ['.DS_Store', 'BostonHousing.csv', '.ipynb_checkpoints']\n",
      "Loaded 506 records from ./data/BostonHousing.csv.\n",
      "\n"
     ]
    }
   ],
   "source": [
    "PROJECT_ROOT_DIR = \".\"\n",
    "DATA_PATH = os.path.join(PROJECT_ROOT_DIR, \"data/\")\n",
    "print(\"Data files in this project:\", os.listdir(DATA_PATH))\n",
    "\n",
    "# Read the raw dataset\n",
    "raw_housing_data_file = os.path.join(DATA_PATH, \"BostonHousing.csv\")\n",
    "raw_housing_data = pd.read_csv(raw_housing_data_file)\n",
    "print(\n",
    "    \"Loaded {} records from {}.\\n\".format(len(raw_housing_data), raw_housing_data_file)\n",
    ")"
   ]
  },
  {
   "cell_type": "code",
   "execution_count": 3,
   "id": "52774fd2-e2bb-450e-b72d-769c49c2f9cb",
   "metadata": {},
   "outputs": [
    {
     "data": {
      "text/html": [
       "<div>\n",
       "<style scoped>\n",
       "    .dataframe tbody tr th:only-of-type {\n",
       "        vertical-align: middle;\n",
       "    }\n",
       "\n",
       "    .dataframe tbody tr th {\n",
       "        vertical-align: top;\n",
       "    }\n",
       "\n",
       "    .dataframe thead th {\n",
       "        text-align: right;\n",
       "    }\n",
       "</style>\n",
       "<table border=\"1\" class=\"dataframe\">\n",
       "  <thead>\n",
       "    <tr style=\"text-align: right;\">\n",
       "      <th></th>\n",
       "      <th>CRIM</th>\n",
       "      <th>ZN</th>\n",
       "      <th>INDUS</th>\n",
       "      <th>CHAS</th>\n",
       "      <th>NOX</th>\n",
       "      <th>RM</th>\n",
       "      <th>AGE</th>\n",
       "      <th>DIS</th>\n",
       "      <th>RAD</th>\n",
       "      <th>TAX</th>\n",
       "      <th>PTRATIO</th>\n",
       "      <th>B</th>\n",
       "      <th>LSTAT</th>\n",
       "      <th>Target</th>\n",
       "    </tr>\n",
       "  </thead>\n",
       "  <tbody>\n",
       "    <tr>\n",
       "      <th>0</th>\n",
       "      <td>0.00632</td>\n",
       "      <td>18.0</td>\n",
       "      <td>2.31</td>\n",
       "      <td>0</td>\n",
       "      <td>0.538</td>\n",
       "      <td>6.575</td>\n",
       "      <td>65.2</td>\n",
       "      <td>4.0900</td>\n",
       "      <td>1</td>\n",
       "      <td>296</td>\n",
       "      <td>15.3</td>\n",
       "      <td>396.90</td>\n",
       "      <td>4.98</td>\n",
       "      <td>24.0</td>\n",
       "    </tr>\n",
       "    <tr>\n",
       "      <th>1</th>\n",
       "      <td>0.02731</td>\n",
       "      <td>0.0</td>\n",
       "      <td>7.07</td>\n",
       "      <td>0</td>\n",
       "      <td>0.469</td>\n",
       "      <td>6.421</td>\n",
       "      <td>78.9</td>\n",
       "      <td>4.9671</td>\n",
       "      <td>2</td>\n",
       "      <td>242</td>\n",
       "      <td>17.8</td>\n",
       "      <td>396.90</td>\n",
       "      <td>9.14</td>\n",
       "      <td>21.6</td>\n",
       "    </tr>\n",
       "    <tr>\n",
       "      <th>2</th>\n",
       "      <td>0.02729</td>\n",
       "      <td>0.0</td>\n",
       "      <td>7.07</td>\n",
       "      <td>0</td>\n",
       "      <td>0.469</td>\n",
       "      <td>7.185</td>\n",
       "      <td>61.1</td>\n",
       "      <td>4.9671</td>\n",
       "      <td>2</td>\n",
       "      <td>242</td>\n",
       "      <td>17.8</td>\n",
       "      <td>392.83</td>\n",
       "      <td>4.03</td>\n",
       "      <td>34.7</td>\n",
       "    </tr>\n",
       "    <tr>\n",
       "      <th>3</th>\n",
       "      <td>0.03237</td>\n",
       "      <td>0.0</td>\n",
       "      <td>2.18</td>\n",
       "      <td>0</td>\n",
       "      <td>0.458</td>\n",
       "      <td>6.998</td>\n",
       "      <td>45.8</td>\n",
       "      <td>6.0622</td>\n",
       "      <td>3</td>\n",
       "      <td>222</td>\n",
       "      <td>18.7</td>\n",
       "      <td>394.63</td>\n",
       "      <td>2.94</td>\n",
       "      <td>33.4</td>\n",
       "    </tr>\n",
       "    <tr>\n",
       "      <th>4</th>\n",
       "      <td>0.06905</td>\n",
       "      <td>0.0</td>\n",
       "      <td>2.18</td>\n",
       "      <td>0</td>\n",
       "      <td>0.458</td>\n",
       "      <td>7.147</td>\n",
       "      <td>54.2</td>\n",
       "      <td>6.0622</td>\n",
       "      <td>3</td>\n",
       "      <td>222</td>\n",
       "      <td>18.7</td>\n",
       "      <td>396.90</td>\n",
       "      <td>5.33</td>\n",
       "      <td>36.2</td>\n",
       "    </tr>\n",
       "    <tr>\n",
       "      <th>5</th>\n",
       "      <td>0.02985</td>\n",
       "      <td>0.0</td>\n",
       "      <td>2.18</td>\n",
       "      <td>0</td>\n",
       "      <td>0.458</td>\n",
       "      <td>6.430</td>\n",
       "      <td>58.7</td>\n",
       "      <td>6.0622</td>\n",
       "      <td>3</td>\n",
       "      <td>222</td>\n",
       "      <td>18.7</td>\n",
       "      <td>394.12</td>\n",
       "      <td>5.21</td>\n",
       "      <td>28.7</td>\n",
       "    </tr>\n",
       "    <tr>\n",
       "      <th>6</th>\n",
       "      <td>0.08829</td>\n",
       "      <td>12.5</td>\n",
       "      <td>7.87</td>\n",
       "      <td>0</td>\n",
       "      <td>0.524</td>\n",
       "      <td>6.012</td>\n",
       "      <td>66.6</td>\n",
       "      <td>5.5605</td>\n",
       "      <td>5</td>\n",
       "      <td>311</td>\n",
       "      <td>15.2</td>\n",
       "      <td>395.60</td>\n",
       "      <td>12.43</td>\n",
       "      <td>22.9</td>\n",
       "    </tr>\n",
       "    <tr>\n",
       "      <th>7</th>\n",
       "      <td>0.14455</td>\n",
       "      <td>12.5</td>\n",
       "      <td>7.87</td>\n",
       "      <td>0</td>\n",
       "      <td>0.524</td>\n",
       "      <td>6.172</td>\n",
       "      <td>96.1</td>\n",
       "      <td>5.9505</td>\n",
       "      <td>5</td>\n",
       "      <td>311</td>\n",
       "      <td>15.2</td>\n",
       "      <td>396.90</td>\n",
       "      <td>19.15</td>\n",
       "      <td>27.1</td>\n",
       "    </tr>\n",
       "    <tr>\n",
       "      <th>8</th>\n",
       "      <td>0.21124</td>\n",
       "      <td>12.5</td>\n",
       "      <td>7.87</td>\n",
       "      <td>0</td>\n",
       "      <td>0.524</td>\n",
       "      <td>5.631</td>\n",
       "      <td>100.0</td>\n",
       "      <td>6.0821</td>\n",
       "      <td>5</td>\n",
       "      <td>311</td>\n",
       "      <td>15.2</td>\n",
       "      <td>386.63</td>\n",
       "      <td>29.93</td>\n",
       "      <td>16.5</td>\n",
       "    </tr>\n",
       "    <tr>\n",
       "      <th>9</th>\n",
       "      <td>0.17004</td>\n",
       "      <td>12.5</td>\n",
       "      <td>7.87</td>\n",
       "      <td>0</td>\n",
       "      <td>0.524</td>\n",
       "      <td>6.004</td>\n",
       "      <td>85.9</td>\n",
       "      <td>6.5921</td>\n",
       "      <td>5</td>\n",
       "      <td>311</td>\n",
       "      <td>15.2</td>\n",
       "      <td>386.71</td>\n",
       "      <td>17.10</td>\n",
       "      <td>18.9</td>\n",
       "    </tr>\n",
       "  </tbody>\n",
       "</table>\n",
       "</div>"
      ],
      "text/plain": [
       "      CRIM    ZN  INDUS  CHAS    NOX     RM    AGE     DIS  RAD  TAX  PTRATIO  \\\n",
       "0  0.00632  18.0   2.31     0  0.538  6.575   65.2  4.0900    1  296     15.3   \n",
       "1  0.02731   0.0   7.07     0  0.469  6.421   78.9  4.9671    2  242     17.8   \n",
       "2  0.02729   0.0   7.07     0  0.469  7.185   61.1  4.9671    2  242     17.8   \n",
       "3  0.03237   0.0   2.18     0  0.458  6.998   45.8  6.0622    3  222     18.7   \n",
       "4  0.06905   0.0   2.18     0  0.458  7.147   54.2  6.0622    3  222     18.7   \n",
       "5  0.02985   0.0   2.18     0  0.458  6.430   58.7  6.0622    3  222     18.7   \n",
       "6  0.08829  12.5   7.87     0  0.524  6.012   66.6  5.5605    5  311     15.2   \n",
       "7  0.14455  12.5   7.87     0  0.524  6.172   96.1  5.9505    5  311     15.2   \n",
       "8  0.21124  12.5   7.87     0  0.524  5.631  100.0  6.0821    5  311     15.2   \n",
       "9  0.17004  12.5   7.87     0  0.524  6.004   85.9  6.5921    5  311     15.2   \n",
       "\n",
       "        B  LSTAT  Target  \n",
       "0  396.90   4.98    24.0  \n",
       "1  396.90   9.14    21.6  \n",
       "2  392.83   4.03    34.7  \n",
       "3  394.63   2.94    33.4  \n",
       "4  396.90   5.33    36.2  \n",
       "5  394.12   5.21    28.7  \n",
       "6  395.60  12.43    22.9  \n",
       "7  396.90  19.15    27.1  \n",
       "8  386.63  29.93    16.5  \n",
       "9  386.71  17.10    18.9  "
      ]
     },
     "execution_count": 3,
     "metadata": {},
     "output_type": "execute_result"
    }
   ],
   "source": [
    "raw_housing_data.head(10)"
   ]
  },
  {
   "cell_type": "markdown",
   "id": "155c50f9-f159-4b0e-89ee-c2c453408d8b",
   "metadata": {},
   "source": [
    "# Split the Data"
   ]
  },
  {
   "cell_type": "markdown",
   "id": "043327f5-2f6d-41e7-9987-58d11c0f3654",
   "metadata": {},
   "source": [
    "Similar to the project on regularized linear regression, the 'target' serves as the dependent variable (the value that needs to be predicted), meaning it will be excluded from the training data and placed into a separate DataFrame designated for labels.\n",
    "\n",
    "Models will be trained utilizing a holdout set instead of employing cross-validation."
   ]
  },
  {
   "cell_type": "code",
   "execution_count": 4,
   "id": "6d8866c5-25f9-4d6f-876f-210df68dad10",
   "metadata": {},
   "outputs": [],
   "source": [
    "from sklearn.model_selection import train_test_split\n",
    "\n",
    "label_columns = [\"Target\"]\n",
    "\n",
    "X_train, X_test, y_train, y_test = train_test_split(\n",
    "    raw_housing_data.loc[:, \"CRIM\":\"LSTAT\"],\n",
    "    raw_housing_data[label_columns],\n",
    "    random_state=2,\n",
    ")"
   ]
  },
  {
   "cell_type": "markdown",
   "id": "2bfb0758-1425-4d58-b9db-7e0d2b482ce4",
   "metadata": {},
   "source": [
    "Let's examine the quantity of rows and columns present in the original dataset compared to those in the training and testing subsets."
   ]
  },
  {
   "cell_type": "code",
   "execution_count": 5,
   "id": "cf9248b3-5c3a-4d6f-a696-04df63ae2c96",
   "metadata": {},
   "outputs": [
    {
     "name": "stdout",
     "output_type": "stream",
     "text": [
      "Original set:        (506, 14)\n",
      "------------------------------\n",
      "Training features:   (379, 13)\n",
      "Test features:       (127, 13)\n",
      "Training labels:     (379, 1)\n",
      "Test labels:         (127, 1)\n"
     ]
    }
   ],
   "source": [
    "print(f\"Original set:        {raw_housing_data.shape}\")\n",
    "print(\"------------------------------\")\n",
    "print(f\"Training features:   {X_train.shape}\")\n",
    "print(f\"Test features:       {X_test.shape}\")\n",
    "print(f\"Training labels:     {y_train.shape}\")\n",
    "print(f\"Test labels:         {y_test.shape}\")"
   ]
  },
  {
   "cell_type": "markdown",
   "id": "82995b9e-34dd-4027-8d02-33f09d58b66f",
   "metadata": {},
   "source": [
    "# Split the Datasets"
   ]
  },
  {
   "cell_type": "markdown",
   "id": "9803405b-e68b-4699-8e95-ea8dc51b6bae",
   "metadata": {},
   "source": [
    "The dependent variable, which is 'Target' and is the value to be predicted, will be extracted from the training data and placed into a separate DataFrame designated for labels, just as was done with the regularized linear regression.\n",
    "\n",
    "The next steps are to divide the training and test datasets along with their corresponding labels and inspect the number of rows and columns in the original dataset compared to those in the training and testing datasets."
   ]
  },
  {
   "cell_type": "code",
   "execution_count": 6,
   "id": "a8cdb138-67ef-40e7-a442-6de73818f63c",
   "metadata": {},
   "outputs": [
    {
     "name": "stdout",
     "output_type": "stream",
     "text": [
      "Original set:        (506, 14)\n",
      "------------------------------\n",
      "Training features:   (379, 13)\n",
      "Test features:       (127, 13)\n",
      "Training labels:     (379, 1)\n",
      "Test labels:         (127, 1)\n"
     ]
    }
   ],
   "source": [
    "from sklearn.model_selection import train_test_split\n",
    "\n",
    "# Extract 'Target' from the training data\n",
    "label_columns = [\"Target\"]\n",
    "\n",
    "# Divide the training and test datasets along with their corresponding labels.\n",
    "X_train, X_test, y_train, y_test = train_test_split(\n",
    "    raw_housing_data.loc[:, \"CRIM\":\"LSTAT\"],\n",
    "    raw_housing_data[label_columns],\n",
    "    random_state=2,\n",
    ")\n",
    "\n",
    "# Compare the number of rows and columns in the original dataset compared to those in the training and testing datasets.\n",
    "print(f\"Original set:        {raw_housing_data.shape}\")\n",
    "print(\"------------------------------\")\n",
    "print(f\"Training features:   {X_train.shape}\")\n",
    "print(f\"Test features:       {X_test.shape}\")\n",
    "print(f\"Training labels:     {y_train.shape}\")\n",
    "print(f\"Test labels:         {y_test.shape}\")"
   ]
  },
  {
   "cell_type": "markdown",
   "id": "6fc93734-b7c8-4be7-be08-d85ed1f0c218",
   "metadata": {},
   "source": [
    "# Observe Correlations to 'Target' \n",
    "\n",
    "Let's examine the relationships between numeric features and the 'Target' feature.\n",
    "\n"
   ]
  },
  {
   "cell_type": "code",
   "execution_count": 7,
   "id": "a9827177-03b3-470a-bb55-b21520c48fb2",
   "metadata": {},
   "outputs": [
    {
     "name": "stdout",
     "output_type": "stream",
     "text": [
      "Correlations with median house value\n",
      "Target     1.000000\n",
      "RM         0.695360\n",
      "ZN         0.360445\n",
      "B          0.333461\n",
      "DIS        0.249929\n",
      "CHAS       0.175260\n",
      "AGE       -0.376955\n",
      "RAD       -0.381626\n",
      "CRIM      -0.388305\n",
      "NOX       -0.427321\n",
      "TAX       -0.468536\n",
      "INDUS     -0.483725\n",
      "PTRATIO   -0.507787\n",
      "LSTAT     -0.737663\n",
      "Name: Target, dtype: float64\n"
     ]
    }
   ],
   "source": [
    "print(\"Correlations with median house value\")\n",
    "print(raw_housing_data.corr()[\"Target\"].sort_values(ascending=False))"
   ]
  },
  {
   "cell_type": "markdown",
   "id": "702a1679-9a50-4379-bba8-3ef841814e56",
   "metadata": {},
   "source": [
    "# Drop the Weakest Correlation \n",
    "\n",
    "The ensuing step involves eliminating the feature with the lowest correlation.\n",
    "\n",
    "Since the **CHAS** correlation is weak and the feature in question is categorical rather than numeric (unlike the other features), it will be excluded from the training process.\n"
   ]
  },
  {
   "cell_type": "code",
   "execution_count": 8,
   "id": "53b98074-589c-4be4-b1a7-a9a276f978a9",
   "metadata": {},
   "outputs": [
    {
     "name": "stdout",
     "output_type": "stream",
     "text": [
      "Columns before drop:\n",
      "\n",
      "['CRIM', 'ZN', 'INDUS', 'CHAS', 'NOX', 'RM', 'AGE', 'DIS', 'RAD', 'TAX', 'PTRATIO', 'B', 'LSTAT']\n",
      "\n",
      "Columns after drop:\n",
      "\n",
      "['CRIM', 'ZN', 'INDUS', 'NOX', 'RM', 'AGE', 'DIS', 'RAD', 'TAX', 'PTRATIO', 'B', 'LSTAT']\n",
      "\n",
      "Columns before drop:\n",
      "\n",
      "['CRIM', 'ZN', 'INDUS', 'CHAS', 'NOX', 'RM', 'AGE', 'DIS', 'RAD', 'TAX', 'PTRATIO', 'B', 'LSTAT']\n",
      "\n",
      "Columns after drop:\n",
      "\n",
      "['CRIM', 'ZN', 'INDUS', 'NOX', 'RM', 'AGE', 'DIS', 'RAD', 'TAX', 'PTRATIO', 'B', 'LSTAT']\n",
      "\n"
     ]
    }
   ],
   "source": [
    "def drop_weakest_correlation(dataset):\n",
    "\n",
    "    print(\"Columns before drop:\\n\\n{}\\n\".format(list(dataset.columns)))\n",
    "\n",
    "    dataset = dataset.drop([\"CHAS\"], axis=1)\n",
    "\n",
    "    print(\"Columns after drop:\\n\\n{}\\n\".format(list(dataset.columns)))\n",
    "    return dataset\n",
    "\n",
    "\n",
    "X_train, X_test = drop_weakest_correlation(X_train.copy()), drop_weakest_correlation(\n",
    "    X_test.copy()\n",
    ")"
   ]
  },
  {
   "cell_type": "markdown",
   "id": "0381f7e7-4be8-463c-af57-195ce2333b5d",
   "metadata": {},
   "source": [
    "# Standardize the Features\n",
    "\n",
    "The data is being processed in the same manner as previously. The features have the z-score implemented to normalize their values."
   ]
  },
  {
   "cell_type": "code",
   "execution_count": 9,
   "id": "df728220-c903-4ccf-8cb1-9459aef6426e",
   "metadata": {},
   "outputs": [
    {
     "name": "stdout",
     "output_type": "stream",
     "text": [
      "The features have been standardized.\n"
     ]
    }
   ],
   "source": [
    "def standardize_features(X):\n",
    "    result = X.copy()\n",
    "\n",
    "    for feature in X.columns:\n",
    "        result[feature] = (X[feature] - X[feature].mean()) / X[\n",
    "            feature\n",
    "        ].std()  # z-score formula.\n",
    "\n",
    "    return result\n",
    "\n",
    "\n",
    "X_train = standardize_features(X_train)\n",
    "X_test = standardize_features(X_test)\n",
    "\n",
    "print(\"The features have been standardized.\")"
   ]
  },
  {
   "cell_type": "markdown",
   "id": "f93092f6-f936-405e-960f-4c6c359d05da",
   "metadata": {},
   "source": [
    "**Spotlight**\n",
    "\n",
    "Scaling down features, such as through standardization, is crucial when applying an iterative cost minimization method like gradient descent, as normalization enables the model to reach the cost minimum more quickly, which reduces training time."
   ]
  },
  {
   "cell_type": "markdown",
   "id": "9262e242-0854-4078-9c3c-577c58124ff5",
   "metadata": {},
   "source": [
    "# Train Model and Calculate Cost"
   ]
  },
  {
   "cell_type": "code",
   "execution_count": 10,
   "id": "713f0e1b-f355-4832-9ce8-5dc860e9c829",
   "metadata": {},
   "outputs": [],
   "source": [
    "from sklearn.metrics import mean_squared_error as mse"
   ]
  },
  {
   "cell_type": "markdown",
   "id": "e474315b-5fe3-4afb-8b34-682692d8c211",
   "metadata": {},
   "source": [
    "**Calculate Mean Squared Error**"
   ]
  },
  {
   "cell_type": "code",
   "execution_count": 11,
   "id": "b0dee3d6-aabd-42ab-af77-caf8ee8cda86",
   "metadata": {},
   "outputs": [],
   "source": [
    "def calculate_mse(true_target_values, estimated_target_values):\n",
    "    return mse(true_target_values, estimated_target_values)"
   ]
  },
  {
   "cell_type": "markdown",
   "id": "8aecc147-3977-4575-8e1c-a01c4b8be2dd",
   "metadata": {},
   "source": [
    "**Train and Cost the Model**\n",
    "\n",
    "This function is nearly identical to the **train_and_score_model()** function as previously used in the regularized regression; the only distinctions are that the training for each model will be timed, the variance score is omitted, and the name is appropriately modified."
   ]
  },
  {
   "cell_type": "code",
   "execution_count": 12,
   "id": "a02c4334-cc2b-420e-873d-8d3840cf4645",
   "metadata": {},
   "outputs": [
    {
     "name": "stdout",
     "output_type": "stream",
     "text": [
      "The function to train the model and calculate its cost has been defined.\n"
     ]
    }
   ],
   "source": [
    "def train_and_cost_model(model):\n",
    "    start = time()\n",
    "    model.fit(X_train, np.ravel(y_train))\n",
    "    end = time()\n",
    "    train_time = (end - start) * 1000\n",
    "\n",
    "    model_predictions = model.predict(X_test)\n",
    "\n",
    "    # cost = mse(y_test, predict)\n",
    "    cost = calculate_mse(y_test, model_predictions)\n",
    "\n",
    "    print(\"Linear regression model took {:.2f} milliseconds to fit.\".format(train_time))\n",
    "    print(\"Cost (mean squared error): {:.2f}\".format(cost))\n",
    "\n",
    "\n",
    "print(\"The function to train the model and calculate its cost has been defined.\")"
   ]
  }
 ],
 "metadata": {
  "kernelspec": {
   "display_name": "Python 3 (ipykernel)",
   "language": "python",
   "name": "python3"
  },
  "language_info": {
   "codemirror_mode": {
    "name": "ipython",
    "version": 3
   },
   "file_extension": ".py",
   "mimetype": "text/x-python",
   "name": "python",
   "nbconvert_exporter": "python",
   "pygments_lexer": "ipython3",
   "version": "3.8.18"
  }
 },
 "nbformat": 4,
 "nbformat_minor": 5
}
